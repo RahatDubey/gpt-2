{
 "cells": [
  {
   "cell_type": "code",
   "execution_count": null,
   "metadata": {},
   "outputs": [],
   "source": []
  },
  {
   "cell_type": "markdown",
   "metadata": {},
   "source": [
    "###SageMaker Notebook"
   ]
  },
  {
   "cell_type": "code",
   "execution_count": null,
   "metadata": {},
   "outputs": [],
   "source": [
    "# SELECT posts.title, comments.body ,comments.score\n",
    "# FROM `fh-bigquery.reddit_comments.2019_*` AS comments\n",
    "# JOIN `fh-bigquery.reddit_posts.2019_*`  AS posts\n",
    "# ON posts.id = SUBSTR(comments.link_id, 4) \n",
    "# WHERE posts.subreddit = 'toastme' AND comments.score >= 1 AND posts.author != comments.author \n",
    "# AND comments.body != '[removed]' AND comments.body != '[deleted]' AND parent_id = link_id AND NOT REGEXP_CONTAINS(comments.body, r\"\\[[a-zA-Z0-9-]\\]\")\n",
    "\n",
    "\n"
   ]
  },
  {
   "cell_type": "code",
   "execution_count": 1,
   "metadata": {},
   "outputs": [
    {
     "name": "stdout",
     "output_type": "stream",
     "text": [
      "\u001b[33mWARNING: You are using pip version 19.3.1; however, version 20.0.2 is available.\r\n",
      "You should consider upgrading via the 'pip install --upgrade pip' command.\u001b[0m\r\n"
     ]
    }
   ],
   "source": [
    "!pip3 install --upgrade six>=1.13.0\n",
    "\n"
   ]
  },
  {
   "cell_type": "code",
   "execution_count": 2,
   "metadata": {},
   "outputs": [
    {
     "name": "stdout",
     "output_type": "stream",
     "text": [
      "Requirement already satisfied: google-cloud-bigquery in /home/ec2-user/anaconda3/envs/tensorflow_p36/lib/python3.6/site-packages (1.24.0)\n",
      "Requirement already satisfied: google-cloud-core<2.0dev,>=1.1.0 in /home/ec2-user/anaconda3/envs/tensorflow_p36/lib/python3.6/site-packages (from google-cloud-bigquery) (1.3.0)\n",
      "Requirement already satisfied: google-resumable-media<0.6dev,>=0.5.0 in /home/ec2-user/anaconda3/envs/tensorflow_p36/lib/python3.6/site-packages (from google-cloud-bigquery) (0.5.0)\n",
      "Requirement already satisfied: google-api-core<2.0dev,>=1.15.0 in /home/ec2-user/anaconda3/envs/tensorflow_p36/lib/python3.6/site-packages (from google-cloud-bigquery) (1.16.0)\n",
      "Requirement already satisfied: protobuf>=3.6.0 in /home/ec2-user/anaconda3/envs/tensorflow_p36/lib/python3.6/site-packages (from google-cloud-bigquery) (3.8.0)\n",
      "Requirement already satisfied: six<2.0.0dev,>=1.13.0 in /home/ec2-user/anaconda3/envs/tensorflow_p36/lib/python3.6/site-packages (from google-cloud-bigquery) (1.14.0)\n",
      "Requirement already satisfied: google-auth<2.0dev,>=1.9.0 in /home/ec2-user/anaconda3/envs/tensorflow_p36/lib/python3.6/site-packages (from google-cloud-bigquery) (1.11.2)\n",
      "Requirement already satisfied: pytz in /home/ec2-user/anaconda3/envs/tensorflow_p36/lib/python3.6/site-packages (from google-api-core<2.0dev,>=1.15.0->google-cloud-bigquery) (2018.4)\n",
      "Requirement already satisfied: googleapis-common-protos<2.0dev,>=1.6.0 in /home/ec2-user/anaconda3/envs/tensorflow_p36/lib/python3.6/site-packages (from google-api-core<2.0dev,>=1.15.0->google-cloud-bigquery) (1.51.0)\n",
      "Requirement already satisfied: setuptools>=34.0.0 in /home/ec2-user/anaconda3/envs/tensorflow_p36/lib/python3.6/site-packages (from google-api-core<2.0dev,>=1.15.0->google-cloud-bigquery) (41.6.0)\n",
      "Requirement already satisfied: requests<3.0.0dev,>=2.18.0 in /home/ec2-user/anaconda3/envs/tensorflow_p36/lib/python3.6/site-packages (from google-api-core<2.0dev,>=1.15.0->google-cloud-bigquery) (2.20.0)\n",
      "Requirement already satisfied: pyasn1-modules>=0.2.1 in /home/ec2-user/anaconda3/envs/tensorflow_p36/lib/python3.6/site-packages (from google-auth<2.0dev,>=1.9.0->google-cloud-bigquery) (0.2.8)\n",
      "Requirement already satisfied: rsa<4.1,>=3.1.4 in /home/ec2-user/anaconda3/envs/tensorflow_p36/lib/python3.6/site-packages (from google-auth<2.0dev,>=1.9.0->google-cloud-bigquery) (3.4.2)\n",
      "Requirement already satisfied: cachetools<5.0,>=2.0.0 in /home/ec2-user/anaconda3/envs/tensorflow_p36/lib/python3.6/site-packages (from google-auth<2.0dev,>=1.9.0->google-cloud-bigquery) (4.0.0)\n",
      "Requirement already satisfied: chardet<3.1.0,>=3.0.2 in /home/ec2-user/anaconda3/envs/tensorflow_p36/lib/python3.6/site-packages (from requests<3.0.0dev,>=2.18.0->google-api-core<2.0dev,>=1.15.0->google-cloud-bigquery) (3.0.4)\n",
      "Requirement already satisfied: urllib3<1.25,>=1.21.1 in /home/ec2-user/anaconda3/envs/tensorflow_p36/lib/python3.6/site-packages (from requests<3.0.0dev,>=2.18.0->google-api-core<2.0dev,>=1.15.0->google-cloud-bigquery) (1.23)\n",
      "Requirement already satisfied: idna<2.8,>=2.5 in /home/ec2-user/anaconda3/envs/tensorflow_p36/lib/python3.6/site-packages (from requests<3.0.0dev,>=2.18.0->google-api-core<2.0dev,>=1.15.0->google-cloud-bigquery) (2.6)\n",
      "Requirement already satisfied: certifi>=2017.4.17 in /home/ec2-user/anaconda3/envs/tensorflow_p36/lib/python3.6/site-packages (from requests<3.0.0dev,>=2.18.0->google-api-core<2.0dev,>=1.15.0->google-cloud-bigquery) (2019.9.11)\n",
      "Requirement already satisfied: pyasn1<0.5.0,>=0.4.6 in /home/ec2-user/anaconda3/envs/tensorflow_p36/lib/python3.6/site-packages (from pyasn1-modules>=0.2.1->google-auth<2.0dev,>=1.9.0->google-cloud-bigquery) (0.4.8)\n",
      "\u001b[33mWARNING: You are using pip version 19.3.1; however, version 20.0.2 is available.\n",
      "You should consider upgrading via the 'pip install --upgrade pip' command.\u001b[0m\n"
     ]
    }
   ],
   "source": [
    "!pip install google-cloud-bigquery\n",
    "\n",
    "import os\n",
    "import json\n",
    "import boto3\n",
    "from google.cloud.bigquery import magics\n",
    "from google.oauth2 import service_account\n",
    "%load_ext google.cloud.bigquery"
   ]
  },
  {
   "cell_type": "code",
   "execution_count": 3,
   "metadata": {},
   "outputs": [],
   "source": [
    "import os \n",
    "import boto3 \n",
    "BUCKET = 'redcreds' \n",
    "KEY = 'My First Project-01f0de489aed.json' \n",
    "s3= boto3.resource('s3') \n",
    "s3.Bucket(BUCKET).download_file(KEY,'My First Project-01f0de489aed.json') \n",
    "os.environ['GOOGLE_APPLICATION_CREDENTIALS'] = 'My First Project-01f0de489aed.json'\n"
   ]
  },
  {
   "cell_type": "code",
   "execution_count": 4,
   "metadata": {},
   "outputs": [
    {
     "name": "stdout",
     "output_type": "stream",
     "text": [
      "The google.cloud.bigquery extension is already loaded. To reload it, use:\n",
      "  %reload_ext google.cloud.bigquery\n"
     ]
    }
   ],
   "source": [
    "%load_ext google.cloud.bigquery"
   ]
  },
  {
   "cell_type": "code",
   "execution_count": 16,
   "metadata": {},
   "outputs": [],
   "source": [
    "%%bigquery df\n",
    "SELECT *\n",
    "FROM `toastme123.redditclean`\n"
   ]
  },
  {
   "cell_type": "code",
   "execution_count": 13,
   "metadata": {},
   "outputs": [
    {
     "data": {
      "text/html": [
       "<div>\n",
       "<style scoped>\n",
       "    .dataframe tbody tr th:only-of-type {\n",
       "        vertical-align: middle;\n",
       "    }\n",
       "\n",
       "    .dataframe tbody tr th {\n",
       "        vertical-align: top;\n",
       "    }\n",
       "\n",
       "    .dataframe thead th {\n",
       "        text-align: right;\n",
       "    }\n",
       "</style>\n",
       "<table border=\"1\" class=\"dataframe\">\n",
       "  <thead>\n",
       "    <tr style=\"text-align: right;\">\n",
       "      <th></th>\n",
       "      <th>title</th>\n",
       "      <th>body</th>\n",
       "      <th>score</th>\n",
       "      <th>created_utc</th>\n",
       "    </tr>\n",
       "  </thead>\n",
       "  <tbody>\n",
       "    <tr>\n",
       "      <th>0</th>\n",
       "      <td>Our friend has been in a bad place lately, and...</td>\n",
       "      <td>You guys seem like a really solid group of peo...</td>\n",
       "      <td>27</td>\n",
       "      <td>1548546258</td>\n",
       "    </tr>\n",
       "    <tr>\n",
       "      <th>1</th>\n",
       "      <td>(M14)Been having alot of trouble in life recen...</td>\n",
       "      <td>You're super cute and your glasses suit you so...</td>\n",
       "      <td>13</td>\n",
       "      <td>1548892540</td>\n",
       "    </tr>\n",
       "    <tr>\n",
       "      <th>2</th>\n",
       "      <td>My hair is a mess and so is my room. Been a co...</td>\n",
       "      <td>I think you and I have different ideas about w...</td>\n",
       "      <td>13</td>\n",
       "      <td>1548019212</td>\n",
       "    </tr>\n",
       "    <tr>\n",
       "      <th>3</th>\n",
       "      <td>(Ex) bf cheated on me with a model while I was...</td>\n",
       "      <td>I got cheated on a few weeks ago after a 2 yea...</td>\n",
       "      <td>10</td>\n",
       "      <td>1547666797</td>\n",
       "    </tr>\n",
       "    <tr>\n",
       "      <th>4</th>\n",
       "      <td>GF asked for a break. Been crying for hours st...</td>\n",
       "      <td>Stay in contact with your friends, keep up wit...</td>\n",
       "      <td>19</td>\n",
       "      <td>1548637516</td>\n",
       "    </tr>\n",
       "  </tbody>\n",
       "</table>\n",
       "</div>"
      ],
      "text/plain": [
       "                                               title  \\\n",
       "0  Our friend has been in a bad place lately, and...   \n",
       "1  (M14)Been having alot of trouble in life recen...   \n",
       "2  My hair is a mess and so is my room. Been a co...   \n",
       "3  (Ex) bf cheated on me with a model while I was...   \n",
       "4  GF asked for a break. Been crying for hours st...   \n",
       "\n",
       "                                                body  score  created_utc  \n",
       "0  You guys seem like a really solid group of peo...     27   1548546258  \n",
       "1  You're super cute and your glasses suit you so...     13   1548892540  \n",
       "2  I think you and I have different ideas about w...     13   1548019212  \n",
       "3  I got cheated on a few weeks ago after a 2 yea...     10   1547666797  \n",
       "4  Stay in contact with your friends, keep up wit...     19   1548637516  "
      ]
     },
     "execution_count": 13,
     "metadata": {},
     "output_type": "execute_result"
    }
   ],
   "source": [
    "df.head()"
   ]
  },
  {
   "cell_type": "code",
   "execution_count": 15,
   "metadata": {},
   "outputs": [
    {
     "data": {
      "text/plain": [
       "40"
      ]
     },
     "execution_count": 15,
     "metadata": {},
     "output_type": "execute_result"
    }
   ],
   "source": [
    "# with open(writePath, 'a') as f:\n",
    "#     f.write(df.to_string(header = False, index = False))"
   ]
  },
  {
   "cell_type": "code",
   "execution_count": 21,
   "metadata": {},
   "outputs": [],
   "source": [
    "df = df.drop(['score','created_utc'], axis=1)"
   ]
  },
  {
   "cell_type": "code",
   "execution_count": 23,
   "metadata": {},
   "outputs": [
    {
     "data": {
      "text/plain": [
       "'I think you and I have different ideas about what constitutes \"a mess.\"'"
      ]
     },
     "execution_count": 23,
     "metadata": {},
     "output_type": "execute_result"
    }
   ],
   "source": [
    "df['body'] = df.StringColumn.apply(lambda s: s+'XXX')"
   ]
  },
  {
   "cell_type": "code",
   "execution_count": null,
   "metadata": {},
   "outputs": [],
   "source": []
  }
 ],
 "metadata": {
  "kernelspec": {
   "display_name": "conda_tensorflow_p36",
   "language": "python",
   "name": "conda_tensorflow_p36"
  },
  "language_info": {
   "codemirror_mode": {
    "name": "ipython",
    "version": 3
   },
   "file_extension": ".py",
   "mimetype": "text/x-python",
   "name": "python",
   "nbconvert_exporter": "python",
   "pygments_lexer": "ipython3",
   "version": "3.6.5"
  }
 },
 "nbformat": 4,
 "nbformat_minor": 4
}
